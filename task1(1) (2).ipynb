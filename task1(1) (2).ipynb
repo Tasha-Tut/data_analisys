{
  "cells": [
    {
      "cell_type": "markdown",
      "metadata": {
        "id": "GDE7CSN9XMNk"
      },
      "source": [
        "# <a href=\"https://miptstats.github.io/courses/ad_fivt.html\">Введение в анализ данных</a>\n",
        "## Домашнее задание 1. Простой анализ данных."
      ]
    },
    {
      "cell_type": "markdown",
      "metadata": {
        "id": "aebW0UuNXMNl"
      },
      "source": [
        "**Правила, <font color=\"red\">прочитайте внимательно</font>:**\n",
        "\n",
        "\n",
        "* Дедлайн см. в боте. После дедлайна работы не принимаются кроме случаев наличия уважительной причины. Правила переноса дедлайнов определены в презентации с первого занятия.\n",
        "* Выполнять задание необходимо полностью самостоятельно. **При обнаружении списывания все участники списывания будут сдавать устный зачет.**\n",
        "* Задачи 1 и 2 сдаются в систему Яндекс.Контест. Ссылка на контест в телеграм-боте.\n",
        "\n",
        "\n",
        "**Сдача задачи 3:**\n",
        "\n",
        "* Выполненную работу нужно отправить телеграм-боту `@miptstats_ds24_bot`. Для начала работы с ботом каждый раз отправляйте `/start`. Дождитесь подтверждения от бота, что он принял файл. Если подтверждения нет, то что-то не так. **Работы, присланные иным способом, не принимаются.**\n",
        "* Прислать нужно **ноутбук в формате `ipynb`**.\n",
        "* Телеграм не разрешает боту получать файлы более **20 Мб**. Если ваше решение весит больше, *заранее* разделите ноутбук на несколько.\n",
        "* Для выполнения задания **используйте этот ноутбук в качестве основы, ничего не удаляя из него**. Можно добавлять необходимое количество ячеек.\n",
        "* Комментарии к решению пишите в markdown-ячейках.\n",
        "* Выполнение задания (ход решения, выводы и пр.) должно быть осуществлено на русском языке.\n",
        "* Если код будет не понятен проверяющему, оценка может быть снижена.\n",
        "* Никакой код из данного задания при проверке запускаться не будет. *Если код студента не выполнен, недописан и т.д., то он не оценивается.*\n",
        "* **Код из рассказанных на занятиях ноутбуков** можно использовать без ограничений.\n",
        "\n",
        "**Перед выполнением задания посмотрите презентацию по выполнению и оформлению домашних заданий с занятия 1.**\n",
        "\n",
        "---\n",
        "\n",
        "**Баллы за задание:**\n",
        "\n",
        "<b><font color=\"blue\">Легкая часть</font></b> (достаточно на \"хор\"):\n",
        "* Задача 1 &mdash; 10 баллов\n",
        "* Задача 2 &mdash; 10 баллов\n",
        "* Задача 3 &mdash; 80 баллов\n",
        "\n",
        "\n",
        "Баллы учитываются в <b>обязательной части</b> курса и не влияют на оценку по факультативной части."
      ]
    },
    {
      "cell_type": "code",
      "execution_count": 1,
      "metadata": {
        "id": "TnvRX4tIXMNn"
      },
      "outputs": [],
      "source": [
        "# Bot check\n",
        "\n",
        "# HW_ID: fpmi_ad1\n",
        "# Бот проверит этот ID и предупредит, если случайно сдать что-то не то\n",
        "\n",
        "# Status: not final\n",
        "# Перед отправкой в финальном решении удали \"not\" в строчке выше\n",
        "# Так бот проверит, что ты отправляешь финальную версию, а не промежуточную"
      ]
    },
    {
      "cell_type": "code",
      "execution_count": 2,
      "metadata": {
        "id": "ht9Xm0EucoAr"
      },
      "outputs": [],
      "source": [
        "import numpy as np\n",
        "import pandas as pd\n",
        "import matplotlib.pyplot as plt\n",
        "import seaborn as sns\n",
        "\n",
        "sns.set(style='whitegrid', font_scale=1.3, palette='Set2')"
      ]
    },
    {
      "cell_type": "markdown",
      "metadata": {
        "id": "LLAvpO0TXMNp"
      },
      "source": [
        "### <font color=\"blue\"><i>Легкая часть</i></font>\n",
        "\n",
        "### Задача 1.\n",
        "\n",
        "Условие задачи и сдача в системе Яндекс.Контест. Ссылка на контест в телеграм-боте."
      ]
    },
    {
      "cell_type": "markdown",
      "metadata": {
        "id": "yiXJNQ6iXMNp"
      },
      "source": [
        "---\n",
        "### Задача 2.\n",
        "\n",
        "Условие задачи и сдача в системе Яндекс.Контест. Ссылка на контест в телеграм-боте."
      ]
    },
    {
      "cell_type": "markdown",
      "metadata": {
        "id": "cGMa202qXMNp"
      },
      "source": [
        "---\n",
        "### Задача 3."
      ]
    },
    {
      "cell_type": "markdown",
      "metadata": {
        "id": "JPJ3ZXeCXMNp"
      },
      "source": [
        "Титаник был крупнейшим пассажирским судном в 1912—1913 годах. Во время первого рейса затонул в северной Атлантике, столкнувшись с айсбергом в ночь с 14 на 15 апреля 1912 года, при этом погибло 1502 из 2224 пассажиров и членов экипажа. Данные о пассажирах были собраны в таблицы, которые можно скачать с <a href=\"https://www.kaggle.com/c/titanic/data\" target=\"_blank\">Kaggle</a>. Эти данные часто используются в качестве обучающих в анализе данных."
      ]
    },
    {
      "cell_type": "markdown",
      "metadata": {
        "id": "KwsZh__IXMNq"
      },
      "source": [
        "На дополнительном занятии 10 февраля будет показан простой пример работы с датасетом Титаник. Сейчас ваша задача &mdash; на основе простого анализа предоставленных данных обучить несколько классификаторов для определения выживших, иначе говоря, получить некоторые приближенные правила определения, выжил пассажир или нет, а также сравнить эти правила по качеству приближения.\n",
        "\n",
        "#### 1. Подготовка данных\n",
        "\n",
        "Загрузите данные с помощью `pandas`."
      ]
    },
    {
      "cell_type": "code",
      "execution_count": 195,
      "metadata": {
        "id": "7aoP3cjjXMNr"
      },
      "outputs": [],
      "source": [
        "data = pd.read_csv('train.csv')"
      ]
    },
    {
      "cell_type": "markdown",
      "metadata": {
        "id": "gasdVBixXMNs"
      },
      "source": [
        "Разделите данные по строкам на две части случайным образом в соотношении 7:3. Первую часть мы будем называть *обучающей*, а вторую &mdash; *тестовой*."
      ]
    },
    {
      "cell_type": "code",
      "execution_count": 196,
      "metadata": {
        "id": "z-q6e_QDXMNs"
      },
      "outputs": [],
      "source": [
        "split = int(len(data) * 0.7)\n",
        "train_data, test_data = data.iloc[:split], data.iloc[split:]"
      ]
    },
    {
      "cell_type": "markdown",
      "metadata": {
        "id": "rZA0bD1MXMNs"
      },
      "source": [
        "Из каждой части оставим несколько признаков, с которыми мы будем работать, а также отдельно &mdash; целевой признак. Примените к обеим частям таблицы функцию ниже"
      ]
    },
    {
      "cell_type": "code",
      "execution_count": 197,
      "metadata": {
        "id": "DZKB91H8XMNt"
      },
      "outputs": [],
      "source": [
        "features_columns = ['Pclass', 'Sex', 'Age', 'SibSp', 'Parch', 'Fare']\n",
        "target_column = 'Survived'  # Целевой признак\n",
        "\n",
        "def get_features_and_target(data):\n",
        "    features = data[features_columns]\n",
        "    target = data[target_column]\n",
        "    return features, target"
      ]
    },
    {
      "cell_type": "code",
      "execution_count": 198,
      "metadata": {
        "id": "oaTborMmXMNt"
      },
      "outputs": [],
      "source": [
        "train_data, test_data = get_features_and_target(train_data), get_features_and_target(test_data)\n",
        "train_data, train_target = train_data\n",
        "test_data, test_target = test_data"
      ]
    },
    {
      "cell_type": "markdown",
      "metadata": {
        "id": "OoTLt8sXXMNt"
      },
      "source": [
        "#### 2. Исследование\n",
        "\n",
        "**Внимание.** Эта часть задачи должна выполняться *исключительно на обучающих данных*. За использование тестовых данных решение не будет оценено.\n",
        "\n",
        "Проведите визуальный анализ данных чтобы понять, как различные признаки влияют на целевой. Исследовать можно не целиком обучающие данные, а разделить их на две части по одному из признаков, а далее рассматривать каждую часть отдельно.\n",
        "\n",
        "*Не забывайте про информативность и эстетичность графиков.*"
      ]
    },
    {
      "cell_type": "code",
      "source": [
        "# объединим с таргетом для упрощения кода - можно делать groupby у pandas\n",
        "df = train_data.copy()\n",
        "df['target'] = train_target"
      ],
      "metadata": {
        "id": "I9qykdped28s"
      },
      "execution_count": 199,
      "outputs": []
    },
    {
      "cell_type": "markdown",
      "source": [
        "Очевидная гипотеза состоит в том, что больше спасали женщин и детей. Проверим это для женщин."
      ],
      "metadata": {
        "id": "BlUI5W_aj7Lh"
      }
    },
    {
      "cell_type": "code",
      "execution_count": 200,
      "metadata": {
        "colab": {
          "base_uri": "https://localhost:8080/"
        },
        "id": "VGvIimyhXMNt",
        "outputId": "9f02459f-79d5-4604-cec4-7a930dd356c6"
      },
      "outputs": [
        {
          "output_type": "execute_result",
          "data": {
            "text/plain": [
              "Sex\n",
              "female    0.748918\n",
              "male      0.186224\n",
              "Name: target, dtype: float64"
            ]
          },
          "metadata": {},
          "execution_count": 200
        }
      ],
      "source": [
        "df.groupby(by=['Sex'])['target'].mean()"
      ]
    },
    {
      "cell_type": "markdown",
      "source": [
        "Далее, для более качественного анализа будем рассматривать все для разных полов отдельно."
      ],
      "metadata": {
        "id": "uIhwzdaFklPN"
      }
    },
    {
      "cell_type": "markdown",
      "source": [
        "Посмотрим, как на выживаемость влиял класс, в котором ехал пассажир."
      ],
      "metadata": {
        "id": "u-j7zywJk2mu"
      }
    },
    {
      "cell_type": "code",
      "source": [
        "p_class_grouped = df.groupby(by=['Sex', 'Pclass'])['target'].mean() * 100 # умножили для получения процента"
      ],
      "metadata": {
        "id": "EObc66MAeuyf"
      },
      "execution_count": 201,
      "outputs": []
    },
    {
      "cell_type": "code",
      "source": [
        "p_classes = [1, 2, 3]\n",
        "x = np.arange(3)\n",
        "width = 0.25\n",
        "multiplier = 0\n",
        "\n",
        "fig, ax = plt.subplots(layout='constrained', figsize=(10, 5))\n",
        "for sex in ['male', 'female']:\n",
        "    offset = width * multiplier\n",
        "    rects = ax.bar(x + offset, p_class_grouped[sex].values, width, label=sex)\n",
        "    ax.bar_label(rects, padding=3)\n",
        "    multiplier += 1\n",
        "\n",
        "ax.set_xticks(x + width, p_classes)\n",
        "ax.legend()\n",
        "ax.set_ylabel('Процент выживаемости')\n",
        "ax.set_xlabel('Pclass')\n",
        "ax.set_title('Зависимость выживаемости от класса')"
      ],
      "metadata": {
        "colab": {
          "base_uri": "https://localhost:8080/",
          "height": 546
        },
        "id": "euYLD9c6c3mc",
        "outputId": "4bac337c-d53e-4ea1-ff6f-e66c7e20b14f"
      },
      "execution_count": 202,
      "outputs": [
        {
          "output_type": "execute_result",
          "data": {
            "text/plain": [
              "Text(0.5, 1.0, 'Зависимость выживаемости от класса')"
            ]
          },
          "metadata": {},
          "execution_count": 202
        },
        {
          "output_type": "display_data",
          "data": {
            "text/plain": [
              "<Figure size 1000x500 with 1 Axes>"
            ],
            "image/png": "[encoded data removed]"
          },
          "metadata": {}
        }
      ]
    },
    {
      "cell_type": "markdown",
      "source": [
        "Видно, что чем выше класс, тем больше выживаемость пассажиров. Тенденция наблюдается и для мужчин, и для женщин."
      ],
      "metadata": {
        "id": "o8Tldkmom78s"
      }
    },
    {
      "cell_type": "markdown",
      "source": [
        "Теперь посмотрим, как на выживаемость влиял возраст пассажиров. Отметим, что в нем около 20 процентов пропусков для каждого класса."
      ],
      "metadata": {
        "id": "Zy42nFBfnYJG"
      }
    },
    {
      "cell_type": "code",
      "source": [
        "df.drop(['Sex'], axis=1).isna().groupby(by=df['Sex']).mean()['Age']"
      ],
      "metadata": {
        "colab": {
          "base_uri": "https://localhost:8080/"
        },
        "id": "aBCVpISHwnjb",
        "outputId": "65a96995-82a1-4569-e9e3-e4761abfb096"
      },
      "execution_count": 203,
      "outputs": [
        {
          "output_type": "execute_result",
          "data": {
            "text/plain": [
              "Sex\n",
              "female    0.190476\n",
              "male      0.221939\n",
              "Name: Age, dtype: float64"
            ]
          },
          "metadata": {},
          "execution_count": 203
        }
      ]
    },
    {
      "cell_type": "markdown",
      "source": [
        "Проведем исследования по группам."
      ],
      "metadata": {
        "id": "5Nipbujbyb3-"
      }
    },
    {
      "cell_type": "code",
      "source": [
        "kid = 16\n",
        "adult = 50\n",
        "\n",
        "df['Age'] = df['Age'].fillna(1000).apply(lambda x:\n",
        "                'NaN' if x == 1000 else\n",
        "                'kid' if x < kid else\n",
        "                'adult' if x < adult else\n",
        "                'old')"
      ],
      "metadata": {
        "id": "wrkkkySPnfT5"
      },
      "execution_count": 204,
      "outputs": []
    },
    {
      "cell_type": "code",
      "source": [
        "age_grouped = df.groupby(by=['Sex', 'Age'])['target'].mean() * 100\n",
        "classes = ['NaN', 'kid', 'adult', 'old']\n",
        "x = np.arange(4)\n",
        "width = 0.35\n",
        "multiplier = 0\n",
        "\n",
        "fig, ax = plt.subplots(layout='constrained', figsize=(10, 7))\n",
        "for sex in ['male', 'female']:\n",
        "    offset = width * multiplier\n",
        "    rects = ax.bar(x + offset, age_grouped[sex].values, width, label=sex)\n",
        "    ax.bar_label(rects, padding=4)\n",
        "    multiplier += 1\n",
        "\n",
        "ax.set_xticks(x + width, classes)\n",
        "ax.legend()\n",
        "ax.set_ylabel('Процент выживаемости')\n",
        "ax.set_xlabel('возраст')\n",
        "ax.set_title('Зависимость выживаемости от возраста')"
      ],
      "metadata": {
        "colab": {
          "base_uri": "https://localhost:8080/",
          "height": 746
        },
        "id": "hvf04Wuz5A0O",
        "outputId": "dc7f34b8-b06d-4951-c5cd-29551715d4ce"
      },
      "execution_count": 206,
      "outputs": [
        {
          "output_type": "execute_result",
          "data": {
            "text/plain": [
              "Text(0.5, 1.0, 'Зависимость выживаемости от возраста')"
            ]
          },
          "metadata": {},
          "execution_count": 206
        },
        {
          "output_type": "display_data",
          "data": {
            "text/plain": [
              "<Figure size 1000x700 with 1 Axes>"
            ],
            "image/png": "[encoded data removed]"
          },
          "metadata": {}
        }
      ]
    },
    {
      "cell_type": "markdown",
      "source": [
        "Как мы видим, самая большая выживаемость среди женщин у детей и пожилых. Среди мужчин наоборот - у молодых."
      ],
      "metadata": {
        "id": "2S5ghQf06xbn"
      }
    },
    {
      "cell_type": "markdown",
      "metadata": {
        "id": "ZHJKHVxVXMNt"
      },
      "source": [
        "#### 3. Классификация методом ближайшего соседа\n",
        "\n",
        "Ранее в контесте вы уже реализовали функцию поиска ближайших соседей. Теперь давайте применим ее для решения нашей текущей задачи.\n",
        "\n",
        "Реализуйте функцию, которая для каждого объекта тестового набора данных найдет $k$ ближайших соседей из обучающего набора данных, и в качестве ответа возьмет наиболее часто встречающееся значение целевого признака среди найденных соседей. Обратите внимание, что соседей необходимо искать только среди объектов обучающего набора данных."
      ]
    },
    {
      "cell_type": "code",
      "execution_count": 221,
      "metadata": {
        "id": "JghJnDywXMNu"
      },
      "outputs": [],
      "source": [
        "def knn(features, train_features, train_target, k=1):\n",
        "    '''\n",
        "    Предсказание целевого признака для данных features -- pandas-таблица данных. [n, d]\n",
        "    на основе обучающего набора данных train_features, train_target. [m, d], [m]\n",
        "    Возвращает pandas.Series с теми же индексами, что и у features.\n",
        "    Число k -- количество соседей.\n",
        "    '''\n",
        "    lengths = ((features.to_numpy()[:, np.newaxis,:] - train_features.to_numpy()) ** 2).sum(axis=2) # [n:m]\n",
        "    nearest_labels = np.take(train_target.to_numpy(), nearest) # [n:k]\n",
        "    predicted = np.mean(nearest_labels, axis=1)\n",
        "    return pd.Series(predicted, features.index) > 0.5"
      ]
    },
    {
      "cell_type": "markdown",
      "metadata": {
        "id": "1ol9HB6mXMNu"
      },
      "source": [
        "Постройте классификатор методом ближайшего соседа, используя только признаки `Age` и `Fare`.\n",
        "\n",
        "Какую метрику (функцию расстояния) вы при этом используете? Нужно ли предварительно что-то сделать с признаками?"
      ]
    },
    {
      "cell_type": "markdown",
      "source": [
        "Функция расстояния используется обычная евклидова. Признаки нужно отнормировать, т.к. возраст и цена измеряются в разных шкалах."
      ],
      "metadata": {
        "id": "AqCS3hfKAgUn"
      }
    },
    {
      "cell_type": "code",
      "execution_count": null,
      "metadata": {
        "id": "rSz7mKl_XMNu"
      },
      "outputs": [],
      "source": [
        "features = train_data[['Age', 'Fare']]\n",
        "\n",
        "for column in features.columns:\n",
        "    features[column] = features[column]  / features[column].abs().max()"
      ]
    },
    {
      "cell_type": "markdown",
      "metadata": {
        "id": "-pqU3leDXMNu"
      },
      "source": [
        "Как меняется результат классификации при другом количестве соседей? Рассмотрите хотя бы три различных нечетных значения количества соседей."
      ]
    },
    {
      "cell_type": "code",
      "execution_count": 224,
      "metadata": {
        "colab": {
          "base_uri": "https://localhost:8080/"
        },
        "id": "Eh0m4NIOXMN0",
        "outputId": "2324f761-510a-45dc-e92e-c48b75d9df1f"
      },
      "outputs": [
        {
          "output_type": "stream",
          "name": "stdout",
          "text": [
            "(623, 3)\n",
            "k = 3, accurace = 0.7752808988764045\n",
            "(623, 5)\n",
            "k = 5, accurace = 0.7174959871589085\n",
            "(623, 7)\n",
            "k = 7, accurace = 0.7030497592295345\n"
          ]
        }
      ],
      "source": [
        "ks = [3, 5, 7]\n",
        "\n",
        "for k in ks:\n",
        "  predicted = knn(features, features, train_target, k=k)\n",
        "  print(f'k = {k}, accurace = {(predicted == train_target).mean()}')"
      ]
    },
    {
      "cell_type": "markdown",
      "metadata": {
        "id": "KWFanmmLXMN0"
      },
      "source": [
        "Как можно было бы учесть другие признаки? Какие при этом могут возникнуть проблемы?\n",
        "\n",
        "Другие признаки - классовые, а не численные. Можно было бы применить one-hot кодирование или сделать осмысленное ранжирование. Например Pclass - классовый, но уже \"приведен\" в численное осмысленное ранжирование.\n",
        "\n",
        "Строить классификатор с другими признаками при этом не нужно."
      ]
    },
    {
      "cell_type": "markdown",
      "metadata": {
        "id": "yWBtEG8yXMN0"
      },
      "source": [
        "#### 4. Классификация логическими правилами\n",
        "\n",
        "На основе выше проведенного исследования предложите два разных правила в виде решающего дерева, пример которого можете посмотреть в презентации с первой лекции (классификация котиков). Никакие статистические методы использовать не требуется, только логику и графики.\n",
        "\n",
        "В данной задаче достаточно, если первое дерево будет иметь максимальную глубину 2, а второе &mdash; глубину 1, и при этом не является поддеревом первого. *Примечание*: дерево из одного листа имеет глубину 0.\n",
        "\n",
        "**Дерево 1:**\n",
        "\n",
        "- Пол пассажира\n",
        "  - Мужчина -> 0\n",
        "  - Женщина -> 1\n",
        "\n",
        "**Дерево 2:**\n",
        "\n",
        "- пол пассажира\n",
        "  - Мужчина\n",
        "    - возраст в [16, 50] -> 1\n",
        "    - иначе -> 0\n",
        "  - Женщина\n",
        "    - 1\n",
        "\n",
        "Реализуйте полученные деревья по шаблону"
      ]
    },
    {
      "cell_type": "code",
      "execution_count": 231,
      "metadata": {
        "id": "xrFLGb-wXMN0"
      },
      "outputs": [],
      "source": [
        "def tree1(features):\n",
        "    return features['Sex'] == 'female'\n",
        "\n",
        "def tree2(features):\n",
        "    return (features['Sex'] == 'female') | ((features['Sex'] == 'male') & (features['Age'] > 16) & (features['Age'] < 50))"
      ]
    },
    {
      "cell_type": "markdown",
      "metadata": {
        "id": "ezKFTpckXMN1"
      },
      "source": [
        "#### 5. Качество\n",
        "\n",
        "Вспомним, что у нас имеется тестовая часть выборки. Самое время ее использовать для того, чтобы оценить, насколько хорошими получились деревья. Предложите какой-нибудь критерий качества.\n",
        "\n",
        "*Замечание*. Не стоит пытаться искать, какие критерии существуют. В данном случае легко предложить адекватный критерий. Стандартные критерии мы разберем позже, но для начала лучше подумать самостоятельно.\n",
        "\n",
        "**Критерий:**\n",
        "\n",
        "В задачах подобной нашей возможно неравномерное распределение меток классов. В случае, если погибших сильно больше выживших. Имеет смысл использовать средневзвешенную точность.\n",
        "\n",
        "Реализуйте данный критерий по шаблону"
      ]
    },
    {
      "cell_type": "code",
      "execution_count": 226,
      "metadata": {
        "id": "WlV5xFfoXMN1"
      },
      "outputs": [],
      "source": [
        "def criteria(target, predicted):\n",
        "  true_target = (target == 1)\n",
        "  false_target = ~ true_target\n",
        "  true_accuracy = (target[true_target] == predicted[true_target]).mean()\n",
        "  false_accuracy = (target[false_target] == predicted[false_target]).mean()\n",
        "  return (true_accuracy + false_accuracy) / 2"
      ]
    },
    {
      "cell_type": "markdown",
      "metadata": {
        "id": "kLNO_zLZXMN1"
      },
      "source": [
        "Оцените качество построенных ранее моделей (два дерева, kNN), используя предложенный критерий.\n",
        "\n",
        "*Примечание.* Полученные значения не влияют на оценку по задание. Оценивается только корректность и обоснованность решения, а также графики и выводы."
      ]
    },
    {
      "cell_type": "code",
      "execution_count": 232,
      "metadata": {
        "colab": {
          "base_uri": "https://localhost:8080/"
        },
        "id": "zfxjteugXMN1",
        "outputId": "c5201ceb-8e90-424e-b429-a7f158f0838b"
      },
      "outputs": [
        {
          "output_type": "stream",
          "name": "stdout",
          "text": [
            "0.7641484858352328\n",
            "0.5739795918367347\n"
          ]
        }
      ],
      "source": [
        "print(criteria(tree1(test_data), test_target))\n",
        "print(criteria(tree2(test_data), test_target))"
      ]
    },
    {
      "cell_type": "markdown",
      "metadata": {
        "id": "miBY7_RCXMN1"
      },
      "source": [
        "Посчитайте значение предложенного ранее критерия качества для метода ближайшего соседа для значений $k$ от 1 до 10. Постройте график зависимости критерия качества от $k$. Как вы можете пояснить полученные результаты?"
      ]
    },
    {
      "cell_type": "code",
      "execution_count": null,
      "metadata": {
        "id": "yPa1SH2KXMN2"
      },
      "outputs": [],
      "source": []
    },
    {
      "cell_type": "markdown",
      "metadata": {
        "id": "-vU06qd_XMN2"
      },
      "source": [
        "#### 6. Выводы"
      ]
    },
    {
      "cell_type": "markdown",
      "source": [
        "Глобальные выводы - на корабле пытались спасать больше женщин. Причем предпочтение отдавалось детям и старым. Среди мужчин больше выживало молодых, что можно объяснить лучшей физической подготовкой.\n",
        "\n",
        "По моделям - простое дерево по одному признаку показало себя лучше сложного."
      ],
      "metadata": {
        "id": "ttl9DuFOIn3E"
      }
    }
  ],
  "metadata": {
    "colab": {
      "provenance": []
    },
    "hide_input": false,
    "kernelspec": {
      "display_name": "Python 3 (ipykernel)",
      "language": "python",
      "name": "python3"
    },
    "language_info": {
      "codemirror_mode": {
        "name": "ipython",
        "version": 3
      },
      "file_extension": ".py",
      "mimetype": "text/x-python",
      "name": "python",
      "nbconvert_exporter": "python",
      "pygments_lexer": "ipython3",
      "version": "3.11.6"
    }
  },
  "nbformat": 4,
  "nbformat_minor": 0
}